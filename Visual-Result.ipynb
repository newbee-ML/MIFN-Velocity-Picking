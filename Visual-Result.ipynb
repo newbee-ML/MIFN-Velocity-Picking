{
 "cells": [
  {
   "cell_type": "markdown",
   "metadata": {},
   "source": [
    "# Context\n",
    "- Show the test list\n",
    "- Predict single one\n",
    "    - spectrum\n",
    "    - NMO result\n",
    "    - VMAE"
   ]
  },
  {
   "cell_type": "code",
   "execution_count": 1,
   "metadata": {},
   "outputs": [],
   "source": [
    "####################### Import Settings #####################\n",
    "import argparse\n",
    "import os\n",
    "import warnings\n",
    "\n",
    "import h5py\n",
    "import numpy as np\n",
    "import pandas as pd\n",
    "import segyio\n",
    "import torch\n",
    "\n",
    "from tqdm import tqdm\n",
    "from sklearn.model_selection import train_test_split\n",
    "from utils.evaluate import GetResult\n",
    "from net.MIFNet import MultiInfoNet\n",
    "from utils.LoadData import LoadSingleData, PredictSingleLoad\n",
    "\n",
    "warnings.filterwarnings(\"ignore\")"
   ]
  },
  {
   "cell_type": "code",
   "execution_count": 2,
   "metadata": {},
   "outputs": [],
   "source": [
    "############### Base Setting ###############################\n",
    "parser = argparse.ArgumentParser()\n",
    "parser.add_argument('--DataSet', type=str, default='hade', help='Dataset Root Path')\n",
    "parser.add_argument('--DataSetRoot', type=str, help='Dataset Root Path')\n",
    "parser.add_argument('--GatherLen', type=int, default=21)\n",
    "parser.add_argument('--LoadModel', type=str, help='Model Path')\n",
    "parser.add_argument('--SGSMode', type=str, default='all')\n",
    "parser.add_argument('--Predthre', type=float, default=0.3)\n",
    "parser.add_argument('--SeedRate', type=float, default=0.5)\n",
    "parser.add_argument('--Resave', type=int, default=0)\n",
    "parser.add_argument('--GPUNO', type=int, default=0)\n",
    "parser.add_argument('--Resize', type=list, help='CropSize')\n",
    "parser.add_argument('--SizeH', type=int, default=256, help='Size Height')\n",
    "parser.add_argument('--t0Int', type=list, default=[])\n",
    "opt = parser.parse_args(args=[])\n",
    "# setting\n",
    "opt.DataSetRoot = 'E:\\\\Spectrum\\\\hade'\n",
    "opt.LoadModel = 'F:\\\\VSP-MIFN\\\\0Ablation\\\\hade\\\\model\\\\DS_hade-SR_0.80-LR_0.0010-BS_8-SH_256-PT_0.10-SGSM_mute.pth'\n",
    "opt.Predthre = 0.3\n",
    "opt.SeedRate = 0.5"
   ]
  },
  {
   "cell_type": "code",
   "execution_count": 3,
   "metadata": {},
   "outputs": [
    {
     "name": "stdout",
     "output_type": "stream",
     "text": [
      "Predict Number 217 \n",
      " ['2600_880', '2320_960', '3120_2360', '2840_960', '2560_1680', '2520_1200', '2600_1600', '3120_920', '2320_2280', '2960_2240', '2680_1680', '3200_2000', '2760_880', '3200_1120', '2880_2360', '3160_1800', '2520_2400', '2560_2360', '2640_2280', '2360_800', '2600_1720', '2240_1960', '2920_1720', '3120_1120', '3240_1040', '2760_2200', '3040_920', '2400_2000', '2360_1280', '2440_1560', '2480_2400', '2760_2360', '3240_880', '2560_1080', '2720_2160', '2280_2200', '2400_800', '2400_2320', '3240_960', '2480_2080', '3000_1000', '3200_2360', '3200_1200', '2720_1360', '2320_1600', '3120_1240', '2880_2200', '2400_1880', '2560_1600', '2480_1160', '3000_1720', '3080_1600', '2680_1720', '3000_920', '2440_1080', '3200_840', '2360_1040', '2520_920', '2920_1120', '2440_1320', '3160_1840', '2440_1000', '3120_1360', '2480_1960', '3080_1920', '2880_1280', '3200_1920', '3240_2120', '2400_1240', '3080_1040', '2840_1040', '2960_1520', '2800_1720', '3120_1080', '2920_2080', '2480_1800', '2680_2160', '2840_2280', '2440_2040', '2640_2360', '2880_1360', '3080_1480', '2440_1720', '3120_2000', '2480_2000', '2320_2240', '3120_2320', '2880_1920', '2400_1720', '2600_1760', '2560_1640', '2440_2120', '2800_1360', '2600_1080', '2600_1320', '2840_2360', '2520_880', '2520_1440', '2320_1560', '2440_2080', '2680_840', '2360_960', '2480_1040', '2920_2240', '2760_1400', '3040_1160', '3160_1720', '3000_2440', '3040_2280', '2920_880', '2800_1880', '2320_1760', '2720_2360', '3120_1920', '2440_840', '2760_2080', '2920_1160', '2600_800', '2280_2400', '3000_2000', '2840_1080', '3200_1000', '3080_1400', '2480_2440', '2960_1200', '2600_2000', '2880_960', '2280_2120', '2360_1960', '2920_2160', '2720_1880', '2800_2360', '2920_2120', '3200_2040', '2920_1960', '3160_1440', '2960_960', '2520_1400', '3040_800', '2440_1240', '3000_1320', '2560_2000', '2920_800', '2920_1280', '2400_2120', '2400_2280', '3000_1560', '2400_1320', '2800_1080', '3160_1000', '2800_2240', '2840_2160', '2400_1680', '2600_1880', '2240_1720', '2360_1080', '3120_840', '2800_1440', '2840_880', '2720_1160', '2880_1480', '2880_2480', '3080_1360', '2680_1160', '3160_2440', '2560_1120', '2280_1640', '3040_2160', '2560_1280', '3240_1640', '2360_2120', '2920_1200', '2640_2160', '3200_2120', '3200_2240', '2960_2280', '2400_1600', '3040_2000', '3000_1520', '2480_1120', '3120_1720', '2320_2480', '2680_1520', '3040_1080', '2960_1080', '2320_1160', '3120_1160', '2520_1960', '3200_1800', '2520_1560', '3200_1600', '2360_2400', '2720_1600', '3240_1080', '2440_1840', '3040_2320', '3120_1440', '3080_1640', '2680_800', '2680_1920', '3160_2040', '3200_1560', '2520_2040', '2520_1240', '2680_1840', '2920_1840', '2360_1720', '2760_1680', '2800_2040', '2960_2160', '3000_1480', '3240_1280', '3240_1160', '2280_2480', '3000_1920', '3080_2240', '2760_2400']\n"
     ]
    }
   ],
   "source": [
    "########## Show the test index ###################\n",
    "# load segy data\n",
    "SegyName = {'pwr': 'vel.pwr.sgy',\n",
    "            'stk': 'vel.stk.sgy',\n",
    "            'gth': 'vel.gth.sgy'}\n",
    "SegyDict = {}\n",
    "for name, path in SegyName.items():\n",
    "    SegyDict.setdefault(name, segyio.open(os.path.join(opt.DataSetRoot, 'segy', path), \"r\", strict=False))\n",
    "# load h5 file\n",
    "H5Name = {'pwr': 'SpecInfo.h5',\n",
    "            'stk': 'StkInfo.h5',\n",
    "            'gth': 'GatherInfo.h5'}\n",
    "H5Dict = {}\n",
    "for name, path in H5Name.items():\n",
    "    H5Dict.setdefault(name, h5py.File(os.path.join(opt.DataSetRoot, 'h5File', path), 'r'))\n",
    "\n",
    "# load label.npy\n",
    "LabelDict = np.load(os.path.join(opt.DataSetRoot, 't_v_labels.npy'), allow_pickle=True).item()\n",
    "HaveLabelIndex = []\n",
    "for lineN in LabelDict.keys():\n",
    "    for cdpN in LabelDict[lineN].keys():\n",
    "        HaveLabelIndex.append('%s_%s' % (lineN, cdpN))\n",
    "pwr_index = set(H5Dict['pwr'].keys())\n",
    "stk_index = set(H5Dict['stk'].keys())\n",
    "gth_index = set(H5Dict['gth'].keys())\n",
    "\n",
    "# find common index\n",
    "Index = sorted(list((pwr_index & stk_index) & (gth_index & set(HaveLabelIndex))))\n",
    "trainIndex, testIndex = train_test_split(Index, test_size=0.2, random_state=123)\n",
    "trainIndex, _ = train_test_split(trainIndex, test_size=1-opt.SeedRate, random_state=123)\n",
    "\n",
    "# Print test list\n",
    "print('Predict Number', len(testIndex), '\\n', testIndex)"
   ]
  },
  {
   "cell_type": "code",
   "execution_count": 4,
   "metadata": {},
   "outputs": [
    {
     "data": {
      "text/plain": [
       "<All keys matched successfully>"
      ]
     },
     "execution_count": 4,
     "metadata": {},
     "output_type": "execute_result"
    }
   ],
   "source": [
    "############### Load Model ####################################\n",
    "# Load MIFN\n",
    "opt.t0Int = np.array(SegyDict['pwr'].samples)\n",
    "opt.Resize = [int(opt.SizeH), int(opt.SizeH/2)]\n",
    "net = MultiInfoNet(opt.t0Int, opt, in_channels=11, resize=opt.Resize)\n",
    "use_gpu = torch.cuda.device_count() > 0\n",
    "if use_gpu:\n",
    "    net = net.cuda(opt.GPUNO)\n",
    "net.eval()\n",
    "# Load Model\n",
    "net.load_state_dict(torch.load(opt.LoadModel)['Weights'])"
   ]
  },
  {
   "cell_type": "code",
   "execution_count": 5,
   "metadata": {},
   "outputs": [
    {
     "name": "stdout",
     "output_type": "stream",
     "text": [
      "['spectrum', 'vInt', 'stkG', 'stkC', 'label']\n"
     ]
    }
   ],
   "source": [
    "############### Predict Single One #################################\n",
    "index = '2800_2040'\n",
    "# Load data\n",
    "DataDict = LoadSingleData(SegyDict, H5Dict, LabelDict, index, mode='train', LoadG=True)\n",
    "VInt = DataDict['vInt']\n",
    "FM, stkG, stkC, mask, VMM, ManualCurve = PredictSingleLoad(DataDict, opt.t0Int, opt.Resize, opt.GatherLen)\n",
    "print(list(DataDict.keys()))\n",
    "if use_gpu:\n",
    "    pwr = FM.cuda(opt.GPUNO)\n",
    "    stkG = stkG.cuda(opt.GPUNO)\n",
    "    stkC = stkC.cuda(opt.GPUNO)\n",
    "\n",
    "out, STKInfo = net(pwr, stkG, stkC, VMM)\n",
    "PredSeg, STKInfo = out.squeeze(), STKInfo.squeeze()"
   ]
  },
  {
   "cell_type": "markdown",
   "metadata": {},
   "source": [
    "# Single Predict\n",
    "## Prediction Map\n",
    "PredSeg is the probability prediction segment map for one sample.\n"
   ]
  },
  {
   "cell_type": "code",
   "execution_count": null,
   "metadata": {},
   "outputs": [],
   "source": [
    "####### Visual the result ##########\n"
   ]
  }
 ],
 "metadata": {
  "interpreter": {
   "hash": "219c018fe232314623744bdb95d4b2dc41f39376dba14ca67f8abd0ce5f8ec84"
  },
  "kernelspec": {
   "display_name": "Python 3.7.11 ('torch')",
   "language": "python",
   "name": "python3"
  },
  "language_info": {
   "codemirror_mode": {
    "name": "ipython",
    "version": 3
   },
   "file_extension": ".py",
   "mimetype": "text/x-python",
   "name": "python",
   "nbconvert_exporter": "python",
   "pygments_lexer": "ipython3",
   "version": "3.7.11"
  },
  "orig_nbformat": 4
 },
 "nbformat": 4,
 "nbformat_minor": 2
}
